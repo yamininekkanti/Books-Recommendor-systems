{
  "nbformat": 4,
  "nbformat_minor": 0,
  "metadata": {
    "colab": {
      "name": "Klaviyo_DS.ipynb",
      "provenance": [],
      "toc_visible": true,
      "authorship_tag": "ABX9TyPYBYVAvw960XwCllHl5Gz3",
      "include_colab_link": true
    },
    "kernelspec": {
      "name": "python3",
      "display_name": "Python 3"
    }
  },
  "cells": [
    {
      "cell_type": "markdown",
      "metadata": {
        "id": "view-in-github",
        "colab_type": "text"
      },
      "source": [
        "<a href=\"https://colab.research.google.com/github/yamininekkanti/Books-Recommendor-systems/blob/master/Klaviyo_DS.ipynb\" target=\"_parent\"><img src=\"https://colab.research.google.com/assets/colab-badge.svg\" alt=\"Open In Colab\"/></a>"
      ]
    },
    {
      "cell_type": "markdown",
      "metadata": {
        "id": "n9ZvVMw9TFlV",
        "colab_type": "text"
      },
      "source": [
        "Yamini nekkanti;\n",
        "Email:yamini.nekkanti1@gmail.com\n"
      ]
    },
    {
      "cell_type": "code",
      "metadata": {
        "id": "K2VuvAVkfe8U",
        "colab_type": "code",
        "colab": {}
      },
      "source": [
        "# importing libraries\n",
        "import pandas as pd\n",
        "import matplotlib.pyplot as plt\n",
        "import seaborn as sns\n",
        "from scipy import stats\n",
        "from statsmodels.stats import weightstats as stests\n",
        "from sklearn.metrics import classification_report\n",
        "from sklearn.metrics import confusion_matrix"
      ],
      "execution_count": 42,
      "outputs": []
    },
    {
      "cell_type": "code",
      "metadata": {
        "id": "-5c2wLnegP33",
        "colab_type": "code",
        "colab": {}
      },
      "source": [
        "url = 'https://raw.githubusercontent.com/yamininekkanti/Klav_DS_Test/master/screening_exercise_orders_v201810.csv'\n",
        "df = pd.read_csv(url)\n",
        "# Dataset is now stored in a Pandas Dataframe"
      ],
      "execution_count": 43,
      "outputs": []
    },
    {
      "cell_type": "code",
      "metadata": {
        "id": "iBor-Rj3p0u9",
        "colab_type": "code",
        "colab": {}
      },
      "source": [
        "df.date = pd.to_datetime(df.date)"
      ],
      "execution_count": 44,
      "outputs": []
    },
    {
      "cell_type": "markdown",
      "metadata": {
        "id": "3gvOERnXTD-f",
        "colab_type": "text"
      },
      "source": [
        ""
      ]
    },
    {
      "cell_type": "markdown",
      "metadata": {
        "id": "SZw0a8xYg8fV",
        "colab_type": "text"
      },
      "source": [
        "## A) Assemble a dataframe with one row per customer and the following columns:\n",
        "\n",
        "* customer_id\n",
        "* gender\n",
        "* most_recent_order_date\n",
        "* order_count (number of orders placed by this customer)\n",
        " \n",
        "\n",
        "Sort the dataframe by customer_id ascending and display the first 10 rows.\n"
      ]
    },
    {
      "cell_type": "code",
      "metadata": {
        "id": "xz4a2KR-16v8",
        "colab_type": "code",
        "colab": {}
      },
      "source": [
        "df1 = df.groupby('customer_id').agg({'gender' : [('Gender','mean')],'date': [('most_recent_order_date','max'), ('order_count','count')]})"
      ],
      "execution_count": 45,
      "outputs": []
    },
    {
      "cell_type": "code",
      "metadata": {
        "id": "9jS1EOb93AAL",
        "colab_type": "code",
        "colab": {}
      },
      "source": [
        "df1.columns=df1.columns.droplevel(0)"
      ],
      "execution_count": 46,
      "outputs": []
    },
    {
      "cell_type": "code",
      "metadata": {
        "id": "jg9PO-5m3ure",
        "colab_type": "code",
        "colab": {}
      },
      "source": [
        "df1 = df1.reset_index().sort_values([\"customer_id\"], ascending = (True))"
      ],
      "execution_count": 47,
      "outputs": []
    },
    {
      "cell_type": "code",
      "metadata": {
        "id": "Myno69i32Kpg",
        "colab_type": "code",
        "colab": {
          "base_uri": "https://localhost:8080/",
          "height": 359
        },
        "outputId": "25f08bff-09fe-423f-e25b-c971c7558837"
      },
      "source": [
        "df1.head(10)"
      ],
      "execution_count": 48,
      "outputs": [
        {
          "output_type": "execute_result",
          "data": {
            "text/html": [
              "<div>\n",
              "<style scoped>\n",
              "    .dataframe tbody tr th:only-of-type {\n",
              "        vertical-align: middle;\n",
              "    }\n",
              "\n",
              "    .dataframe tbody tr th {\n",
              "        vertical-align: top;\n",
              "    }\n",
              "\n",
              "    .dataframe thead th {\n",
              "        text-align: right;\n",
              "    }\n",
              "</style>\n",
              "<table border=\"1\" class=\"dataframe\">\n",
              "  <thead>\n",
              "    <tr style=\"text-align: right;\">\n",
              "      <th></th>\n",
              "      <th>customer_id</th>\n",
              "      <th>Gender</th>\n",
              "      <th>most_recent_order_date</th>\n",
              "      <th>order_count</th>\n",
              "    </tr>\n",
              "  </thead>\n",
              "  <tbody>\n",
              "    <tr>\n",
              "      <th>0</th>\n",
              "      <td>1000</td>\n",
              "      <td>0</td>\n",
              "      <td>2017-01-01 00:11:31</td>\n",
              "      <td>1</td>\n",
              "    </tr>\n",
              "    <tr>\n",
              "      <th>1</th>\n",
              "      <td>1001</td>\n",
              "      <td>0</td>\n",
              "      <td>2017-01-01 00:29:56</td>\n",
              "      <td>1</td>\n",
              "    </tr>\n",
              "    <tr>\n",
              "      <th>2</th>\n",
              "      <td>1002</td>\n",
              "      <td>1</td>\n",
              "      <td>2017-02-19 21:35:31</td>\n",
              "      <td>3</td>\n",
              "    </tr>\n",
              "    <tr>\n",
              "      <th>3</th>\n",
              "      <td>1003</td>\n",
              "      <td>1</td>\n",
              "      <td>2017-04-26 02:37:20</td>\n",
              "      <td>4</td>\n",
              "    </tr>\n",
              "    <tr>\n",
              "      <th>4</th>\n",
              "      <td>1004</td>\n",
              "      <td>0</td>\n",
              "      <td>2017-01-01 03:11:54</td>\n",
              "      <td>1</td>\n",
              "    </tr>\n",
              "    <tr>\n",
              "      <th>5</th>\n",
              "      <td>1005</td>\n",
              "      <td>1</td>\n",
              "      <td>2017-12-16 01:39:27</td>\n",
              "      <td>2</td>\n",
              "    </tr>\n",
              "    <tr>\n",
              "      <th>6</th>\n",
              "      <td>1006</td>\n",
              "      <td>1</td>\n",
              "      <td>2017-05-09 15:27:20</td>\n",
              "      <td>3</td>\n",
              "    </tr>\n",
              "    <tr>\n",
              "      <th>7</th>\n",
              "      <td>1007</td>\n",
              "      <td>0</td>\n",
              "      <td>2017-01-01 15:59:50</td>\n",
              "      <td>1</td>\n",
              "    </tr>\n",
              "    <tr>\n",
              "      <th>8</th>\n",
              "      <td>1008</td>\n",
              "      <td>0</td>\n",
              "      <td>2017-12-17 05:47:48</td>\n",
              "      <td>3</td>\n",
              "    </tr>\n",
              "    <tr>\n",
              "      <th>9</th>\n",
              "      <td>1009</td>\n",
              "      <td>1</td>\n",
              "      <td>2017-01-01 19:27:17</td>\n",
              "      <td>1</td>\n",
              "    </tr>\n",
              "  </tbody>\n",
              "</table>\n",
              "</div>"
            ],
            "text/plain": [
              "   customer_id  Gender most_recent_order_date  order_count\n",
              "0         1000       0    2017-01-01 00:11:31            1\n",
              "1         1001       0    2017-01-01 00:29:56            1\n",
              "2         1002       1    2017-02-19 21:35:31            3\n",
              "3         1003       1    2017-04-26 02:37:20            4\n",
              "4         1004       0    2017-01-01 03:11:54            1\n",
              "5         1005       1    2017-12-16 01:39:27            2\n",
              "6         1006       1    2017-05-09 15:27:20            3\n",
              "7         1007       0    2017-01-01 15:59:50            1\n",
              "8         1008       0    2017-12-17 05:47:48            3\n",
              "9         1009       1    2017-01-01 19:27:17            1"
            ]
          },
          "metadata": {
            "tags": []
          },
          "execution_count": 48
        }
      ]
    },
    {
      "cell_type": "markdown",
      "metadata": {
        "id": "H1fJvzW_67mJ",
        "colab_type": "text"
      },
      "source": [
        "## B) Plot the count of orders per week for the store."
      ]
    },
    {
      "cell_type": "code",
      "metadata": {
        "id": "ZtxgWqK963bt",
        "colab_type": "code",
        "colab": {}
      },
      "source": [
        "df2=df\n",
        "df2[\"week_no\"] = df[\"date\"].dt.week\n",
        "df3 = df2.groupby('week_no').agg({'value': [('order_count','count')]})\n",
        "df3.columns=df3.columns.droplevel(0)\n",
        "df3 = df3.reset_index()\n",
        "\n"
      ],
      "execution_count": 49,
      "outputs": []
    },
    {
      "cell_type": "code",
      "metadata": {
        "id": "TmRHfvAY-tpu",
        "colab_type": "code",
        "colab": {
          "base_uri": "https://localhost:8080/",
          "height": 406
        },
        "outputId": "8284af67-9f7e-4886-b849-ca497d3e8828"
      },
      "source": [
        "\n",
        "plt.figure(figsize=(16, 9));\n",
        "sns.catplot(\n",
        "    x=\"week_no\",\n",
        "    y = \"order_count\",\n",
        "    kind=\"bar\",\n",
        "    data= df3,\n",
        "    height=5,  # make the plot 5 units high\n",
        "    aspect=2,\n",
        ");\n",
        "plt.xticks(\n",
        "    rotation=45, horizontalalignment=\"right\", fontweight=\"light\", fontsize=\"small\"\n",
        ");\n",
        "plt.title('Total orders per week for the store');"
      ],
      "execution_count": 50,
      "outputs": [
        {
          "output_type": "display_data",
          "data": {
            "text/plain": [
              "<Figure size 1152x648 with 0 Axes>"
            ]
          },
          "metadata": {
            "tags": []
          }
        },
        {
          "output_type": "display_data",
          "data": {
            "image/png": "[encoded data removed]",
            "text/plain": [
              "<Figure size 720x360 with 1 Axes>"
            ]
          },
          "metadata": {
            "tags": [],
            "needs_background": "light"
          }
        }
      ]
    },
    {
      "cell_type": "markdown",
      "metadata": {
        "id": "LJ1Fah2hMSUG",
        "colab_type": "text"
      },
      "source": [
        "## C) Compute the mean order value for gender 0 and for gender 1. Do you think the difference is significant? Justify your choice of method.\n"
      ]
    },
    {
      "cell_type": "code",
      "metadata": {
        "id": "8GezWdWBMQY4",
        "colab_type": "code",
        "colab": {
          "base_uri": "https://localhost:8080/",
          "height": 173
        },
        "outputId": "c52e8fd0-e837-4033-cc15-f5f6385b8892"
      },
      "source": [
        "df.groupby('gender').agg({'value': [('Mean_order_value','mean')]})"
      ],
      "execution_count": 51,
      "outputs": [
        {
          "output_type": "execute_result",
          "data": {
            "text/html": [
              "<div>\n",
              "<style scoped>\n",
              "    .dataframe tbody tr th:only-of-type {\n",
              "        vertical-align: middle;\n",
              "    }\n",
              "\n",
              "    .dataframe tbody tr th {\n",
              "        vertical-align: top;\n",
              "    }\n",
              "\n",
              "    .dataframe thead tr th {\n",
              "        text-align: left;\n",
              "    }\n",
              "\n",
              "    .dataframe thead tr:last-of-type th {\n",
              "        text-align: right;\n",
              "    }\n",
              "</style>\n",
              "<table border=\"1\" class=\"dataframe\">\n",
              "  <thead>\n",
              "    <tr>\n",
              "      <th></th>\n",
              "      <th>value</th>\n",
              "    </tr>\n",
              "    <tr>\n",
              "      <th></th>\n",
              "      <th>Mean_order_value</th>\n",
              "    </tr>\n",
              "    <tr>\n",
              "      <th>gender</th>\n",
              "      <th></th>\n",
              "    </tr>\n",
              "  </thead>\n",
              "  <tbody>\n",
              "    <tr>\n",
              "      <th>0</th>\n",
              "      <td>363.890006</td>\n",
              "    </tr>\n",
              "    <tr>\n",
              "      <th>1</th>\n",
              "      <td>350.708361</td>\n",
              "    </tr>\n",
              "  </tbody>\n",
              "</table>\n",
              "</div>"
            ],
            "text/plain": [
              "                  value\n",
              "       Mean_order_value\n",
              "gender                 \n",
              "0            363.890006\n",
              "1            350.708361"
            ]
          },
          "metadata": {
            "tags": []
          },
          "execution_count": 51
        }
      ]
    },
    {
      "cell_type": "code",
      "metadata": {
        "id": "5nHXfWWuO909",
        "colab_type": "code",
        "colab": {
          "base_uri": "https://localhost:8080/",
          "height": 68
        },
        "outputId": "2cb42b43-7a78-465a-aca6-4fcdd9608615"
      },
      "source": [
        "\n",
        "ztest ,pval = stests.ztest(df[df['gender']==0].value, x2=df[df['gender']==1].value, value=0,alternative='two-sided')\n",
        "print(float(pval))\n",
        "print(\"Alpha value is assumed as 0.05\")\n",
        "if pval<0.05:\n",
        "    print(\"reject null hypothesis. \")\n",
        "else:\n",
        "    print(\"accept null hypothesis or fail to reject null hypothesis.\")"
      ],
      "execution_count": 53,
      "outputs": [
        {
          "output_type": "stream",
          "text": [
            "0.04818092815493747\n",
            "Alpha value is assumed as 0.05\n",
            "reject null hypothesis. \n"
          ],
          "name": "stdout"
        }
      ]
    },
    {
      "cell_type": "markdown",
      "metadata": {
        "id": "5oQX6ii_VAP3",
        "colab_type": "text"
      },
      "source": [
        "The mean order values for gender=0 and gender=1 are 363.89 & 350.70 respectively. I have perfomred Z-value test to check for p-value with 95% confidence with null hypothesis that there is no significant difference between the means (alpha=0.05) . From the results we can see that p-value = 0.04816 lesser than 0.05 . Therefore, with 95% confidence I can reject this hypothesis, the difference is not significant."
      ]
    },
    {
      "cell_type": "markdown",
      "metadata": {
        "id": "zfmjc0zjS6Am",
        "colab_type": "text"
      },
      "source": [
        "## D) Generate a confusion matrix for the gender predictions of customers in this dataset. You can assume that there is only one gender prediction for each customer. What does the confusion matrix tell you about the quality of the predictions?\n"
      ]
    },
    {
      "cell_type": "code",
      "metadata": {
        "id": "r-tWXybXS43l",
        "colab_type": "code",
        "colab": {
          "base_uri": "https://localhost:8080/",
          "height": 51
        },
        "outputId": "4e5df5fc-238e-4b9e-b451-513d1dd610c5"
      },
      "source": [
        "\n",
        "confusion_matrix(df.gender, df.predicted_gender)"
      ],
      "execution_count": 54,
      "outputs": [
        {
          "output_type": "execute_result",
          "data": {
            "text/plain": [
              "array([[3349, 3410],\n",
              "       [1463, 5249]])"
            ]
          },
          "metadata": {
            "tags": []
          },
          "execution_count": 54
        }
      ]
    },
    {
      "cell_type": "code",
      "metadata": {
        "id": "FpXxX0D9axb1",
        "colab_type": "code",
        "colab": {}
      },
      "source": [
        "\n",
        "Results=classification_report(df.gender, df.predicted_gender)"
      ],
      "execution_count": 55,
      "outputs": []
    },
    {
      "cell_type": "code",
      "metadata": {
        "id": "Fe75wGRXbOom",
        "colab_type": "code",
        "colab": {
          "base_uri": "https://localhost:8080/",
          "height": 170
        },
        "outputId": "32e95b7e-174c-4420-8b25-11eb6a7f4786"
      },
      "source": [
        "print(Results)"
      ],
      "execution_count": 56,
      "outputs": [
        {
          "output_type": "stream",
          "text": [
            "              precision    recall  f1-score   support\n",
            "\n",
            "           0       0.70      0.50      0.58      6759\n",
            "           1       0.61      0.78      0.68      6712\n",
            "\n",
            "    accuracy                           0.64     13471\n",
            "   macro avg       0.65      0.64      0.63     13471\n",
            "weighted avg       0.65      0.64      0.63     13471\n",
            "\n"
          ],
          "name": "stdout"
        }
      ]
    },
    {
      "cell_type": "markdown",
      "metadata": {
        "id": "f6My3HOZNStW",
        "colab_type": "text"
      },
      "source": [
        "From the classification report we can infer that accuracy of our predictions is 64% and the precision with which we predicted the values is 61%. And the recall of the predictions is 78%\n"
      ]
    },
    {
      "cell_type": "markdown",
      "metadata": {
        "id": "WpH3wcO_HKmP",
        "colab_type": "text"
      },
      "source": [
        "## E) Describe one of your favorite tools or techniques and give a small example of how it's helped you solve a problem. Limit your answer to one paragraph, and please be specific.\n"
      ]
    },
    {
      "cell_type": "markdown",
      "metadata": {
        "id": "0XRUY16VHQtx",
        "colab_type": "text"
      },
      "source": [
        "My favorite tool is Python. It is very simple and easy to use interface for data cleaning,analysis and modelling. Especially python has more sophisticaed machine learning model libraries. I used python to build sales inventory recommendations system to predict the sales and required inventory levels. In addition to that matlab & seaborn visualization libraries in python provided me a good visualized display of sales variations across stores and geographies. Plots generated are very easy to interpret and insights aided the business problem of optimizing the inventory\n",
        " "
      ]
    }
  ]
}